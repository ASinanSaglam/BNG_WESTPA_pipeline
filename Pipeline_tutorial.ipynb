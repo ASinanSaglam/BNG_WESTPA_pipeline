{
 "cells": [
  {
   "cell_type": "code",
   "execution_count": 5,
   "metadata": {},
   "outputs": [
    {
     "name": "stdout",
     "output_type": "stream",
     "text": [
      "/home/monoid/Development/BNG_WESTPA_pipeline\n"
     ]
    }
   ],
   "source": [
    "# Make sure you are in the folder where you have the repo cloned\n",
    "import os \n",
    "print(os.getcwd())"
   ]
  },
  {
   "cell_type": "code",
   "execution_count": 7,
   "metadata": {},
   "outputs": [
    {
     "name": "stdout",
     "output_type": "stream",
     "text": [
      "{'sampling_options': {'tau': 100, 'max_iter': 100, 'dimensions': 2, 'pcoord_length': 10}, 'binning_options': {'traj_per_bin': 100, 'block_size': 10, 'max_centers': 300, 'center_freq': 1}, 'path_options': {'sim_name': 'WESTPA_sim', 'bngl_file': '/home/monoid/Development/BNG_WESTPA_pipeline/test.bngl', 'WESTPA_path': '/home/monoid/apps/westpa/', 'bng_path': '/home/monoid/apps/BioNetGen-2.4.0/'}}\n"
     ]
    }
   ],
   "source": [
    "# Make sure the configuration file is set correctly here\n",
    "configuration_file = \"opts.yaml\"\n",
    "# Now we are loading the file as an object to modify as necessary\n",
    "import yaml \n",
    "f = open(configuration_file, \"r\")\n",
    "conf = yaml.load(f)\n",
    "f.close()\n",
    "print(conf)"
   ]
  },
  {
   "cell_type": "code",
   "execution_count": 8,
   "metadata": {},
   "outputs": [],
   "source": [
    "# Fixing paths to everything in the configuration file\n",
    "WESTPA_path = \"/home/monoid/apps/ps/ps/d/apps/westpa\"\n",
    "BNG_path = \"/home/monoid/apps/BioNetGen-2.4.0\"\n",
    "bngl_path = \"/home/monoid/Development/BNG_WESTPA_pipeline/test.bngl\"\n",
    "sim_name = \"/home/monoid/Development/BNG_WESTPA_pipeline/test_sim\"\n",
    "\n",
    "conf['path_options']['sim_name'] = sim_name\n",
    "conf['path_options']['bngl_file'] = bngl_path\n",
    "conf['path_options']['bng_path'] = BNG_path\n",
    "conf['path_options']['WESTPA_path'] = WESTPA_path\n",
    "\n",
    "# You can change the sampling parameters here\n",
    "# in particular, if you have a simulation that a different number of progress coordinates (default here is 2)\n",
    "# you MUST change the \"dimensions\" parameters to the correct value (e.g. if you want to track 8 gene expressions\n",
    "# dimensions must be set to 8)"
   ]
  },
  {
   "cell_type": "code",
   "execution_count": 9,
   "metadata": {},
   "outputs": [],
   "source": [
    "# Talk about all parameters you can set here"
   ]
  },
  {
   "cell_type": "code",
   "execution_count": 10,
   "metadata": {},
   "outputs": [],
   "source": [
    "# Let's remove the original and overwrite the configuration file with the new parameters\n",
    "# make sure the file is closed when you try this\n",
    "os.remove(configuration_file)\n",
    "f = open(configuration_file, \"w\")\n",
    "yaml.dump(conf, f)\n",
    "f.close()"
   ]
  },
  {
   "cell_type": "code",
   "execution_count": null,
   "metadata": {},
   "outputs": [],
   "source": []
  }
 ],
 "metadata": {
  "kernelspec": {
   "display_name": "Python 2",
   "language": "python",
   "name": "python2"
  },
  "language_info": {
   "codemirror_mode": {
    "name": "ipython",
    "version": 2
   },
   "file_extension": ".py",
   "mimetype": "text/x-python",
   "name": "python",
   "nbconvert_exporter": "python",
   "pygments_lexer": "ipython2",
   "version": "2.7.15"
  }
 },
 "nbformat": 4,
 "nbformat_minor": 2
}
